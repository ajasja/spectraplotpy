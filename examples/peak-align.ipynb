{
 "metadata": {
  "name": "",
  "signature": "sha256:2fdd9b9c6f98984e298434f28cb2483ce95e8f7237b12cbdd513b463e76ab75f"
 },
 "nbformat": 3,
 "nbformat_minor": 0,
 "worksheets": [
  {
   "cells": [
    {
     "cell_type": "code",
     "collapsed": false,
     "input": [
      "%matplotlib inline\n",
      "import numpy as np\n",
      "import spectraplotpy as spp\n",
      "import matplotlib.pyplot as plt\n",
      "from IPython.display import display as pp"
     ],
     "language": "python",
     "metadata": {},
     "outputs": []
    },
    {
     "cell_type": "code",
     "collapsed": false,
     "input": [
      "#load data\n",
      "dataset = spp.CSVImporter('../sampledata/04-EPR-E500/PEP/p2801_OC_SDS_SAH.asc',).datasets[1]\n",
      "spec = spp.Spectrum(dataset)\n",
      "#spec.plot()"
     ],
     "language": "python",
     "metadata": {},
     "outputs": []
    },
    {
     "cell_type": "code",
     "collapsed": false,
     "input": [
      "from scipy import signal\n",
      "xs = np.arange(0, np.pi*5, 0.05)\n",
      "data = np.sin(xs)\n",
      "peakind = signal.find_peaks_cwt(data, np.arange(1,10))\n",
      "pp(peakind, xs[peakind], data[peakind])\n",
      "fig, ax = plt.subplots(1,1)\n",
      "ax.plot(xs,data)\n",
      "ax.plot(xs[peakind], data[peakind],'r.')\n",
      "ax.set_ylim([-1.1,1.1])"
     ],
     "language": "python",
     "metadata": {},
     "outputs": []
    },
    {
     "cell_type": "code",
     "collapsed": false,
     "input": [
      "from scipy import signal\n",
      "xs = spec.dataset.x\n",
      "data = spec.dataset.y\n",
      "peakind = signal.find_peaks_cwt(data, np.arange(20,200,5),min_snr=3)\n",
      "pp(peakind, xs[peakind], data[peakind])\n",
      "fig, ax = plt.subplots(1,1)\n",
      "ax.plot(xs,data)\n",
      "ax.plot(xs[peakind], data[peakind],'r.')\n"
     ],
     "language": "python",
     "metadata": {},
     "outputs": []
    },
    {
     "cell_type": "code",
     "collapsed": false,
     "input": [
      "import peakdetect as pd\n",
      "_min, _max = pd.peakdetect(spec.dataset.y, spec.dataset.x,lookahead=100)\n",
      "xm = [p[0] for p in _max]\n",
      "ym = [p[1] for p in _max]\n",
      "xn = [p[0] for p in _min]\n",
      "yn = [p[1] for p in _min]\n",
      "pp(_min, _max)\n",
      "fig, ax = plt.subplots(1,1)\n",
      "spec.plot(axes=ax)\n",
      "ax.plot(xm, ym, 'r.')\n",
      "ax.plot(xn, yn, 'g.')"
     ],
     "language": "python",
     "metadata": {},
     "outputs": []
    },
    {
     "cell_type": "code",
     "collapsed": false,
     "input": [
      "import peakdetect as pd\n",
      "ind = pd.zero_crossings(spec.dataset.y, window=100)\n",
      "xm = spec.dataset.x[ind]\n",
      "ym = spec.dataset.y[ind]\n",
      "fig, ax = plt.subplots(1,1)\n",
      "spec.plot(axes=ax)\n",
      "ax.plot(xm, ym, 'r.')\n"
     ],
     "language": "python",
     "metadata": {},
     "outputs": []
    }
   ],
   "metadata": {}
  }
 ]
}